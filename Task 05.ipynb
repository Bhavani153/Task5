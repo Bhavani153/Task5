{
 "cells": [
  {
   "cell_type": "code",
   "execution_count": 4,
   "metadata": {},
   "outputs": [
    {
     "name": "stdout",
     "output_type": "stream",
     "text": [
      "total number of vowels:\n",
      "9\n",
      "Total a\n",
      "Total e\n",
      "Total i\n",
      "Total o\n",
      "Total u\n"
     ]
    },
    {
     "data": {
      "text/plain": [
       "1"
      ]
     },
     "execution_count": 4,
     "metadata": {},
     "output_type": "execute_result"
    }
   ],
   "source": [
    "#1\n",
    "vowels=0\n",
    "x= \"Guvi Geeks Network Limited\"\n",
    "for i in x:\n",
    "    if (i==\"a\" or i==\"e\" or i==\"i\" or i==\"o\" or i==\"u\"):\n",
    "        #print(i)\n",
    "        vowels=vowels+1\n",
    "print(\"total number of vowels:\")\n",
    "print(vowels)\n",
    "print(\"Total a\")\n",
    "x.count(\"a\")\n",
    "print(\"Total e\")\n",
    "x.count(\"e\")\n",
    "print(\"Total i\")\n",
    "x.count(\"i\")\n",
    "print(\"Total o\")\n",
    "x.count(\"o\")\n",
    "print(\"Total u\")\n",
    "x.count(\"u\")\n"
   ]
  },
  {
   "cell_type": "code",
   "execution_count": 5,
   "metadata": {},
   "outputs": [
    {
     "name": "stdout",
     "output_type": "stream",
     "text": [
      "                   1\n",
      "                  22\n",
      "                 333\n",
      "                4444\n",
      "               55555\n",
      "              666666\n",
      "             7777777\n",
      "            88888888\n",
      "           999999999\n",
      "          10101010101010101010\n",
      "         1111111111111111111111\n",
      "        121212121212121212121212\n",
      "       13131313131313131313131313\n",
      "      1414141414141414141414141414\n",
      "     151515151515151515151515151515\n",
      "    16161616161616161616161616161616\n",
      "   1717171717171717171717171717171717\n",
      "  181818181818181818181818181818181818\n",
      " 19191919191919191919191919191919191919\n",
      "2020202020202020202020202020202020202020\n"
     ]
    }
   ],
   "source": [
    "#2\n",
    "n=21\n",
    "for i in range(1,n):\n",
    "    for s in range(1,n-i):\n",
    "        print(' ',end='')\n",
    "    for j in range (1,i+1):\n",
    "        print (i,end='')\n",
    "    print('')"
   ]
  },
  {
   "cell_type": "code",
   "execution_count": 18,
   "metadata": {},
   "outputs": [
    {
     "name": "stdout",
     "output_type": "stream",
     "text": [
      "sftwr tstng pythn clss\n"
     ]
    }
   ],
   "source": [
    "#3\n",
    "s= \"software testing python class\"\n",
    "x=s.replace(\"a\",\"\")\n",
    "#print(x)\n",
    "x2=x.replace(\"e\",\"\")\n",
    "#print(x2)\n",
    "x3=x2.replace(\"i\",\"\")\n",
    "#print(x3)\n",
    "x4=x3.replace(\"o\",\"\")\n",
    "#print(x4)\n",
    "x5=x4.replace(\"u\",\"\")\n",
    "print(x5)"
   ]
  },
  {
   "cell_type": "code",
   "execution_count": 19,
   "metadata": {},
   "outputs": [
    {
     "name": "stdout",
     "output_type": "stream",
     "text": [
      "t\n",
      "i\n",
      "m\n",
      "e\n",
      "l\n",
      "n\n"
     ]
    }
   ],
   "source": [
    "#4\n",
    "x=\"timeline\"\n",
    "uniquecharacters=[]\n",
    "for ch in x:\n",
    "    if ch not in uniquecharacters:\n",
    "        uniquecharacters.append(ch)\n",
    "for ch in uniquecharacters:\n",
    "    print(ch)"
   ]
  },
  {
   "cell_type": "code",
   "execution_count": 20,
   "metadata": {},
   "outputs": [
    {
     "name": "stdout",
     "output_type": "stream",
     "text": [
      "madam\n",
      "true,it is a palindrom word\n"
     ]
    }
   ],
   "source": [
    "#5\n",
    "a=\"madam\"\n",
    "substring=a[::-1]\n",
    "print(substring)\n",
    "b=substring\n",
    "if a==b:\n",
    "    print(\"true,it is a palindrom word\")\n",
    "else:\n",
    "    print(\"false, not a palindrom word\")"
   ]
  },
  {
   "cell_type": "code",
   "execution_count": 21,
   "metadata": {},
   "outputs": [
    {
     "name": "stdout",
     "output_type": "stream",
     "text": [
      "gninrom\n",
      "false, not a palindrom word\n"
     ]
    }
   ],
   "source": [
    "a=\"morning\"\n",
    "substring=a[::-1]\n",
    "print(substring)\n",
    "b=substring\n",
    "if a==b:\n",
    "    print(\"true,it is a palindrom word\")\n",
    "else:\n",
    "    print(\"false, not a palindrom word\")"
   ]
  },
  {
   "cell_type": "code",
   "execution_count": 22,
   "metadata": {},
   "outputs": [
    {
     "name": "stdout",
     "output_type": "stream",
     "text": [
      "length of string 1:\n",
      "5\n",
      "length of string 2:\n",
      "9\n",
      "longest common substring:\n",
      "pineapple\n"
     ]
    }
   ],
   "source": [
    "#6\n",
    "s1=\"apple\"\n",
    "print(\"length of string 1:\")\n",
    "print(len(s1))\n",
    "s2=\"pineapple\"\n",
    "print(\"length of string 2:\")\n",
    "print(len(s2))\n",
    "if s1<s2:\n",
    "    print(\"longest common substring:\")\n",
    "    print(s2)"
   ]
  },
  {
   "cell_type": "code",
   "execution_count": 9,
   "metadata": {},
   "outputs": [
    {
     "name": "stdout",
     "output_type": "stream",
     "text": [
      "Numbers of h:\n",
      "1\n",
      "Numbers of e:\n",
      "1\n",
      "Numbers of l:\n",
      "1\n",
      "Numbers of l:\n",
      "1\n",
      "Numbers of o:\n",
      "1\n"
     ]
    }
   ],
   "source": [
    "#7\n",
    "x=\"hello\"\n",
    "count=0\n",
    "for i in x:\n",
    "    if i==\"h\":\n",
    "            #print(i)\n",
    "            count=count+1\n",
    "            print(\"Numbers of h:\")\n",
    "            print(count)\n",
    "            \n",
    "    if i==\"e\":\n",
    "            count2=0\n",
    "            #print(i)\n",
    "            count2=count2+1\n",
    "            print(\"Numbers of e:\")\n",
    "            print(count2)\n",
    "\n",
    "    if i==\"l\":\n",
    "        count3=0\n",
    "        #print(i)\n",
    "        count3=count3+1\n",
    "        print(\"Numbers of l:\")\n",
    "        print(count3)\n",
    "\n",
    "    if i==\"o\":\n",
    "        count4=0\n",
    "        #print(i)\n",
    "        count4=count4+1\n",
    "        print(\"Numbers of o:\")\n",
    "        print(count4)\n",
    "\n"
   ]
  },
  {
   "cell_type": "code",
   "execution_count": 10,
   "metadata": {},
   "outputs": [
    {
     "name": "stdout",
     "output_type": "stream",
     "text": [
      "yes,its an anagram\n"
     ]
    }
   ],
   "source": [
    "#8\n",
    "a=\"face\"\n",
    "b=\"cafe\"\n",
    "if(sorted(a))==(sorted(b)):\n",
    "    print(\"yes,its an anagram\")\n",
    "else:\n",
    "    print(\"No,its not an anagram\")"
   ]
  },
  {
   "cell_type": "code",
   "execution_count": 11,
   "metadata": {},
   "outputs": [
    {
     "name": "stdout",
     "output_type": "stream",
     "text": [
      "No,its not an anagram\n"
     ]
    }
   ],
   "source": [
    "a=\"clear\"\n",
    "b=\"copy\"\n",
    "if(sorted(a))==(sorted(b)):\n",
    "    print(\"yes,its an anagram\")\n",
    "else:\n",
    "    print(\"No,its not an anagram\")"
   ]
  },
  {
   "cell_type": "code",
   "execution_count": 12,
   "metadata": {},
   "outputs": [
    {
     "name": "stdout",
     "output_type": "stream",
     "text": [
      "numbers of words:\n",
      "4\n"
     ]
    }
   ],
   "source": [
    "#9\n",
    "words= \"apple,banana,orange,pineapple\"\n",
    "fruits=words.split(',')\n",
    "#print(fruits)\n",
    "count=len(fruits)\n",
    "print(\"numbers of words:\")\n",
    "print(count)"
   ]
  }
 ],
 "metadata": {
  "kernelspec": {
   "display_name": "Python 3",
   "language": "python",
   "name": "python3"
  },
  "language_info": {
   "codemirror_mode": {
    "name": "ipython",
    "version": 3
   },
   "file_extension": ".py",
   "mimetype": "text/x-python",
   "name": "python",
   "nbconvert_exporter": "python",
   "pygments_lexer": "ipython3",
   "version": "3.12.2"
  }
 },
 "nbformat": 4,
 "nbformat_minor": 2
}
